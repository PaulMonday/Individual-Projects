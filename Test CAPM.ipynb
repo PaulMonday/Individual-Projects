{
 "cells": [
  {
   "cell_type": "code",
   "execution_count": 1,
   "id": "e87a21ec",
   "metadata": {},
   "outputs": [],
   "source": [
    "#This is a praction to test CAPM.Please note that in reality we should use portfolio,instead of individual stocks,to do the test. "
   ]
  },
  {
   "cell_type": "code",
   "execution_count": 2,
   "id": "d0415eb4",
   "metadata": {},
   "outputs": [
    {
     "name": "stdout",
     "output_type": "stream",
     "text": [
      "Loading library list...\n",
      "Done\n",
      "Loading library list...\n",
      "Done\n"
     ]
    }
   ],
   "source": [
    "import myfunc as mf\n",
    "import wrds\n",
    "db = wrds.Connection(wrds_username='fxw174')\n",
    "import pandas as pd\n",
    "from scipy import stats as st\n",
    "import matplotlib.pyplot as plt\n",
    "import numpy as np\n",
    "import math"
   ]
  },
  {
   "cell_type": "code",
   "execution_count": 3,
   "id": "d08c1546",
   "metadata": {},
   "outputs": [],
   "source": [
    "#This are functions writeen by me.Some parameters may not be used in this task,since I decide to write them as general as possible at first place.\n",
    "\n",
    "#This function let you combine local DataFrame with the ones in the WRDS.\n",
    "def up_sql(query,df):\n",
    "    col=df.columns\n",
    "    col=','.join(col)\n",
    "    df=list(df.itertuples(index=False,name=None))\n",
    "    add_query=\" (VALUES \"\"\"+(\"%s,\"*len(df))[0:-1]+\") AS u (\"+col+\")\"\n",
    "    query=query.format(add_query)\n",
    "    return db.raw_sql(query,params=[df])\n",
    "\n",
    "#convert cusip to gvkey\n",
    "def cusip_gvkey(df=0,cusip_digit=8):    \n",
    "    link=db.raw_sql(\"select distinct cusip,gvkey from comp.funda\")\n",
    "    if cusip_digit==8:\n",
    "        def cusip9to8(cusip9):\n",
    "            if cusip9:\n",
    "                return cusip9[0:-1]\n",
    "        link['cusip']=link['cusip'].apply(cusip9to8)\n",
    "    if type(df)==int:\n",
    "        return link\n",
    "    else:\n",
    "        return link.merge(df,on='cusip')\n",
    "\n",
    "#get beta\n",
    "def get_beta(df='',estimate=False):\n",
    "    if type(df)==str:\n",
    "        if df:\n",
    "            date=pd.to_datetime(df)\n",
    "        else:\n",
    "            date=pd.to_datetime('now')-pd.DateOffset(months=1)\n",
    "        year=date.year\n",
    "        month=date.month\n",
    "        df=db.raw_sql(\"\"\"\n",
    "        SELECT\n",
    "            gvkey,\n",
    "            beta,\n",
    "            datadate as date\n",
    "        FROM\n",
    "            comp_na_daily_all.co_mthly\n",
    "        WHERE\n",
    "            %(year)s=EXTRACT(YEAR FROM datadate) AND\n",
    "            %(month)s=EXTRACT(MONTH FROM datadate);\n",
    "        \"\"\",params={'year':year,'month':month},date_cols=['date'])\n",
    "    else:\n",
    "        if 'date' not in df.columns:\n",
    "            df['date']=pd.to_datetime('now')-pd.DateOffset(months=1)\n",
    "        if 'gvkey' not in df.columns:\n",
    "            df=cusip_gvkey(df)\n",
    "        df1=df.drop_duplicates(['gvkey','date'])[['gvkey','date']]\n",
    "        query=\"\"\"\n",
    "        SELECT  \n",
    "            u.*,\n",
    "            a.beta\n",
    "        FROM\n",
    "            comp_na_daily_all.co_mthly AS a,{}\n",
    "        WHERE\n",
    "            u.gvkey=a.gvkey AND\n",
    "            EXTRACT(YEAR FROM u.date)=EXTRACT(YEAR FROM a.datadate) AND\n",
    "            EXTRACT(MONTH FROM u.date)=EXTRACT(MONTH FROM a.datadate);\n",
    "        \"\"\"\n",
    "        df1=up_sql(query,df1)\n",
    "        df=df.merge(df1,on=['gvkey','date'])\n",
    "    if estimate:\n",
    "        from scipy.stats.mstats import gmean\n",
    "        factors=db.raw_sql(\"SELECT date,rf,mktrf FROM ff.factors_monthly\",date_cols=['date'])\n",
    "        factors['year']=pd.DatetimeIndex(factors['date']).year\n",
    "        factors['month']=pd.DatetimeIndex(factors['date']).month\n",
    "        \n",
    "        def estimate_beta(df):\n",
    "            date=df.name\n",
    "            result=factors[(factors['date']<=date)&(factors['date']>=date-pd.DateOffset(years=20))]['mktrf']+1\n",
    "            result=gmean(result)\n",
    "            df['mktrf_20yr_mean']=result-1\n",
    "            return df\n",
    "        df=df.groupby('date').apply(estimate_beta)\n",
    "        df['year']=pd.DatetimeIndex(df['date']).year\n",
    "        df['month']=pd.DatetimeIndex(df['date']).month\n",
    "        df=df.merge(factors[['rf','year','month']],on=['year','month'])\n",
    "        df['est_CAPM']=df['rf']+df['beta']*df['mktrf_20yr_mean']\n",
    "        df=df.drop(['month','year','mktrf_20yr_mean','rf'],axis=1)\n",
    "    return df"
   ]
  },
  {
   "cell_type": "code",
   "execution_count": 4,
   "id": "ac6badfa",
   "metadata": {},
   "outputs": [],
   "source": [
    "df=db.raw_sql(\"\"\"\n",
    "SELECT\n",
    "    cusip\n",
    "    ,date\n",
    "    ,ret\n",
    "FROM\n",
    "    crsp.msf\n",
    "\"\"\",date_cols=['date'])"
   ]
  },
  {
   "cell_type": "code",
   "execution_count": 5,
   "id": "2aa4ecbb",
   "metadata": {},
   "outputs": [
    {
     "data": {
      "text/plain": [
       "LinregressResult(slope=-6.146546152624917e-05, intercept=0.007730277861168674, rvalue=-0.006455336479267456, pvalue=0.020847137519136104, stderr=2.659955744106956e-05, intercept_stderr=0.0015273533894620403)"
      ]
     },
     "execution_count": 5,
     "metadata": {},
     "output_type": "execute_result"
    }
   ],
   "source": [
    "df['ret']=(df['ret']+1).apply(math.log) #get the log return\n",
    "df=df.groupby(['cusip',pd.Grouper(key='date',freq='Y')]).aggregate(['sum','count']).reset_index() #get the yearly return\n",
    "df.columns=['cusip','ret_date','ret','count']\n",
    "df=df[df['count']==12] # only keep the valid return\n",
    "df['date']=df['ret_date']-pd.DateOffset(years=1) # lag\n",
    "df=get_beta(df)# get beta\n",
    "df=df.dropna()\n",
    "st.linregress(df['beta'],df['ret']) # Run regression.The result shows the CAPM has limited prediction power. "
   ]
  }
 ],
 "metadata": {
  "kernelspec": {
   "display_name": "Python 3",
   "language": "python",
   "name": "python3"
  },
  "language_info": {
   "codemirror_mode": {
    "name": "ipython",
    "version": 3
   },
   "file_extension": ".py",
   "mimetype": "text/x-python",
   "name": "python",
   "nbconvert_exporter": "python",
   "pygments_lexer": "ipython3",
   "version": "3.9.5"
  }
 },
 "nbformat": 4,
 "nbformat_minor": 5
}

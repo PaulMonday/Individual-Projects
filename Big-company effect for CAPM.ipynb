{
 "cells": [
  {
   "cell_type": "code",
   "execution_count": 1,
   "id": "c47e8b2b",
   "metadata": {},
   "outputs": [],
   "source": [
    "# This small simulation proves that CAPM(or market model) can be tested valid as long as a few giant companies make up the majority of market,\n",
    "# even when stocks just random walk."
   ]
  },
  {
   "cell_type": "code",
   "execution_count": 2,
   "id": "0d77ae96",
   "metadata": {},
   "outputs": [],
   "source": [
    "import pandas as pd\n",
    "from scipy import stats as st\n",
    "import matplotlib.pyplot as plt\n",
    "import numpy as np"
   ]
  },
  {
   "cell_type": "code",
   "execution_count": 3,
   "id": "d3584c5b",
   "metadata": {},
   "outputs": [],
   "source": [
    "t=300\n",
    "n=100\n",
    "ret_m=0.01\n",
    "ret_sd=0.05"
   ]
  },
  {
   "cell_type": "code",
   "execution_count": 4,
   "id": "7c3196b9",
   "metadata": {},
   "outputs": [
    {
     "name": "stdout",
     "output_type": "stream",
     "text": [
      "all firms:\n",
      " slope         0.594645\n",
      "intercept     0.003922\n",
      "rvalue        0.078098\n",
      "pvalue        0.333052\n",
      "se            0.488858\n",
      "MVE          23.048214\n",
      "weight        0.010000\n",
      "dtype: float64\n",
      "\n",
      "top5:\n",
      " slope          1.810708\n",
      "intercept     -0.001111\n",
      "rvalue         0.235552\n",
      "pvalue         0.001568\n",
      "se             0.478041\n",
      "MVE          110.258917\n",
      "weight         0.047838\n",
      "dtype: float64\n"
     ]
    }
   ],
   "source": [
    "price=np.zeros((t,n))\n",
    "ret=np.random.normal(ret_m,ret_sd,(t,n))\n",
    "price[0]=1\n",
    "for i in range(1,t):\n",
    "    price[i]=price[i-1]*(1+ret[i])\n",
    "mkt=price.sum(axis=1)\n",
    "mktret=np.zeros(t)\n",
    "for i in range(1,t):\n",
    "    mktret[i]=(mkt[i]/mkt[i-1])-1\n",
    "reg=np.zeros((n,5))\n",
    "for i in range(n):\n",
    "    reg[i]=st.linregress(mktret[-240:],ret[-240:,i])\n",
    "reg=pd.DataFrame(reg,columns=['slope','intercept','rvalue','pvalue','se'])\n",
    "reg['MVE']=price[-1]\n",
    "vmkt=reg['MVE'].sum()\n",
    "reg['weight']=reg['MVE']/vmkt\n",
    "print('all firms:\\n',reg.mean())\n",
    "top5=reg.sort_values('MVE',ascending=False)[:5]\n",
    "print('\\ntop5:\\n',top5.mean())"
   ]
  },
  {
   "cell_type": "code",
   "execution_count": null,
   "id": "38e4dc9a",
   "metadata": {},
   "outputs": [],
   "source": []
  }
 ],
 "metadata": {
  "kernelspec": {
   "display_name": "Python 3",
   "language": "python",
   "name": "python3"
  },
  "language_info": {
   "codemirror_mode": {
    "name": "ipython",
    "version": 3
   },
   "file_extension": ".py",
   "mimetype": "text/x-python",
   "name": "python",
   "nbconvert_exporter": "python",
   "pygments_lexer": "ipython3",
   "version": "3.9.5"
  }
 },
 "nbformat": 4,
 "nbformat_minor": 5
}
